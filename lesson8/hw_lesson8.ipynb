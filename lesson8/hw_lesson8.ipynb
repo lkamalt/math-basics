{
 "cells": [
  {
   "cell_type": "markdown",
   "id": "9f07709d",
   "metadata": {},
   "source": [
    "# Оглавление\n",
    "1. [Понятие о производной](#derivative)\n",
    "    * [Задание 1](#derivative_1)\n",
    "    * [Задание 2](#derivative_2)\n",
    "    * [Задание 3](#derivative_3)\n",
    "    * [Задание 4](#derivative_4)"
   ]
  },
  {
   "cell_type": "markdown",
   "id": "b14c947d",
   "metadata": {},
   "source": [
    "# Производные функций нескольких переменных <a class='anchor' id='derivative'>"
   ]
  },
  {
   "cell_type": "markdown",
   "id": "b73f4568",
   "metadata": {},
   "source": [
    "### Задание 1 <a class='anchor' id='derivative_1'>\n",
    "    \n",
    "Найти область определения функции\n",
    "    \n",
    "$$z = \\sqrt{1 - x^3} + \\ln(y^2 - 1).$$\n",
    "    \n",
    "Распишем ограничения для каждого аргумента функции $z$:\n",
    "    \n",
    "$$\\sqrt{1 - x^3} \\ge 0 \\Rightarrow 1 - x^3 \\ge 0 \\Rightarrow x^3 \\le 1,$$\n",
    "    \n",
    "$$y^2 - 1 > 0 \\Rightarrow y^2 > 1.$$\n",
    "    \n",
    "Таким образом, область определения функции $z$:\n",
    "\n",
    "$$\\begin{cases}\n",
    "  x \\in (-\\infty, 1], \\\\\n",
    "  y \\in (-\\infty, -1) \\cup (1, +\\infty). \\\\\n",
    "\\end{cases}$$"
   ]
  },
  {
   "cell_type": "markdown",
   "id": "52c416dd",
   "metadata": {},
   "source": [
    "### Задание 2 <a class='anchor' id='derivative_2'>\n",
    "    \n",
    "Найти производные 1-го порядка функции\n",
    "    \n",
    "$$z = \\left( 1 + \\frac{\\ln x}{\\ln y} \\right)^3.$$\n",
    "    \n",
    "Частные производные 1-го порядка:\n",
    "    \n",
    "$$z'_x = 3 \\left( 1 + \\frac{\\ln x}{\\ln y} \\right)^2 \\frac{1}{x\\ln y} = \\frac{3}{x\\ln y}\\left( 1 + \\frac{\\ln x}{\\ln y} \\right)^2$$\n",
    "    \n",
    "$$z'_y = 3 \\left( 1 + \\frac{\\ln x}{\\ln y} \\right)^2 \\left( -\\frac{\\ln x}{y(\\ln y)^2} \\right) = -\\frac{3\\ln x}{y(\\ln y)^2} \\left( 1 + \\frac{\\ln x}{\\ln y} \\right)^2$$"
   ]
  },
  {
   "cell_type": "markdown",
   "id": "1d9613ae",
   "metadata": {},
   "source": [
    "### Задание 3 <a class='anchor' id='derivative_3'>\n",
    "    \n",
    "Найти полный дифференциал функции в точке (1; 1)\n",
    "    \n",
    "$$z = \\sqrt{2xy + \\cos\\frac{x}{y}}.$$\n",
    "    \n",
    "Полный дифференциал в данном случае вычисляется по формуле:\n",
    "    \n",
    "$$dz = \\frac{\\partial{z}}{\\partial{x}} dx + \\frac{\\partial{z}}{\\partial{y}} dy.$$\n",
    "    \n",
    "Вычислим частные производные:\n",
    "    \n",
    "$$\\frac{\\partial{z}}{\\partial{x}} = \\frac{1}{2\\sqrt{2xy + \\cos\\frac{x}{y}}} \\left( 2y - \\frac{1}{y}\\sin\\frac{x}{y} \\right) = \\frac{2y^2 - \\sin\\frac{x}{y}}{2y\\sqrt{2xy + \\cos\\frac{x}{y}}},$$\n",
    "    \n",
    "$$\\frac{\\partial{z}}{\\partial{y}} = \\frac{1}{2\\sqrt{2xy + \\cos\\frac{x}{y}}} \\left( 2x + \\frac{x}{y^2}\\sin\\frac{x}{y} \\right) = \\frac{2xy^2 + x\\sin\\frac{x}{y}}{2y^2\\sqrt{2xy + \\cos\\frac{x}{y}}} = \\frac{x \\left( 2y^2 + \\sin\\frac{x}{y} \\right)}{2y^2\\sqrt{2xy + \\cos\\frac{x}{y}}}.$$\n",
    "    \n",
    "Вычислим значения частных производных в точке (1; 1):\n",
    "\n",
    "$$\\left. \\frac{\\partial{z}}{\\partial{x}} \\right|_{(1; 1)} = \\frac{2 - \\sin 1}{2 \\sqrt{2 + \\cos 1}},$$\n",
    "\n",
    "$$\\left. \\frac{\\partial{z}}{\\partial{y}} \\right|_{(1; 1)} = \\frac{2 + \\sin 1}{2 \\sqrt{2 + \\cos 1}}.$$\n",
    "    \n",
    "Таким образом, полный дифференциал функции $z$ в точке (1; 1) имеет вид:\n",
    "    \n",
    "$$dz(1; 1) = \\frac{2 - \\sin 1}{2 \\sqrt{2 + \\cos 1}}dx + \\frac{2 + \\sin 1}{2 \\sqrt{2 + \\cos 1}}dy.$$"
   ]
  },
  {
   "cell_type": "markdown",
   "id": "1b75b4f7",
   "metadata": {},
   "source": [
    "### Задание 4 <a class='anchor' id='derivative_4'>\n",
    "    \n",
    "Исследовать на экстремум функцию\n",
    "    \n",
    "$$z = x^2 + xy + y^2 - 6x - 9y.$$\n",
    "    \n",
    "Необходимое условие экстремума: \n",
    "    \n",
    "$$\\begin{cases}\n",
    "  z'_x = 2x + y - 6 = 0, \\\\\n",
    "  z'_y = x + 2y - 9 = 0. \\\\\n",
    "\\end{cases}$$\n",
    "    \n",
    "Из первого уравнения выразим $y$:\n",
    "    \n",
    "$$y = 6 - 2x.$$\n",
    "    \n",
    "Подставим это выражение во второе уравнение:\n",
    "    \n",
    "$$x + 2y - 9 = x + 2(6 - 2x) - 9 = x + 12 - 4x - 9 = 3 - 3x = 0,$$\n",
    "\n",
    "откуда получаем, что \n",
    "    \n",
    "$$x = 1.$$\n",
    "    \n",
    "Тогда можно вычислить $y$:\n",
    "    \n",
    "$$y = 6 - 2 = 4.$$\n",
    "    \n",
    "Полученная точка $(1; 4)$ является **стационарной**.\n",
    "\n",
    "Исследуем эту точку на экстремум.\n",
    "    \n",
    "Запишем вторые производные:\n",
    "    \n",
    "$$z'_{xx} = 2,$$\n",
    "    \n",
    "$$z'_{xy} = 1,$$\n",
    "    \n",
    "$$z'_{yy} = 2.$$\n",
    "    \n",
    "Вычислим гессиан:\n",
    "    \n",
    "$$\n",
    "\\Delta = \\begin{vmatrix}\n",
    "    z''_{xx} & z''_{xy} \\\\\n",
    "    z''_{xy} & z''_{yy}\n",
    "\\end{vmatrix} = \n",
    "\\begin{vmatrix}\n",
    "    2 & 1 \\\\\n",
    "    1 & 2\n",
    "\\end{vmatrix} = 2 \\cdot 2 - 1 \\cdot 1 = 3 > 0.\n",
    "$$\n",
    "    \n",
    "Получили, что определитель матрицы $\\Delta > 0$, значит функция $z$ имеет в стационарной точке $(1; 4)$ **экстремум**.\n",
    "    \n",
    "Так как $x''_{xx} = 2 > 0$, то эта точка $(1; 4)$ является **точкой минимума**."
   ]
  }
 ],
 "metadata": {
  "kernelspec": {
   "display_name": "Python 3 (ipykernel)",
   "language": "python",
   "name": "python3"
  },
  "language_info": {
   "codemirror_mode": {
    "name": "ipython",
    "version": 3
   },
   "file_extension": ".py",
   "mimetype": "text/x-python",
   "name": "python",
   "nbconvert_exporter": "python",
   "pygments_lexer": "ipython3",
   "version": "3.9.7"
  }
 },
 "nbformat": 4,
 "nbformat_minor": 5
}
