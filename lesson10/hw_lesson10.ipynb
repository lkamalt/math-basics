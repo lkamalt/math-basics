{
 "cells": [
  {
   "cell_type": "markdown",
   "id": "e73d73fe",
   "metadata": {},
   "source": [
    "# Оглавление\n",
    "1. [Понятие об интеграле](#int)\n",
    "    * [Задание 1](#int_1)\n",
    "    * [Задание 2](#int_2)\n",
    "    * [Задание 3](#int_3)\n",
    "    * [Задание 4](#int_4)"
   ]
  },
  {
   "cell_type": "markdown",
   "id": "24562670",
   "metadata": {},
   "source": [
    "# Понятие об интеграле <a class='anchor' id='int'>"
   ]
  },
  {
   "cell_type": "markdown",
   "id": "86b39189",
   "metadata": {},
   "source": [
    "### Задание 1 <a class='anchor' id='int_1'>\n",
    "    \n",
    "Найти неопределенный интеграл.\n",
    "    \n",
    "$$\\int(2x^2 - 2x - 1 + \\sin{x} - \\cos{x} + \\ln{x} + e^x)dx = \\frac{2}{3}x^3 - \\frac{2}{2}x^2 - x - \\cos{x} - \\sin{x} + e^x + x\\ln{x} - x + C = $$\n",
    "$$= \\frac{2}{3}x^3 - x^2 - 2x - \\cos{x} - \\sin{x} + e^x + x\\ln{x} + C.$$"
   ]
  },
  {
   "cell_type": "markdown",
   "id": "5fc79fc0",
   "metadata": {},
   "source": [
    "### Задание 2 <a class='anchor' id='int_2'>\n",
    "    \n",
    "Найти неопределенный интеграл.\n",
    "    \n",
    "$$\\int(2x + 6xz^2 - 5x^2y - 3\\ln{z})dx = \\frac{2}{2}x^2 + \\frac{6}{2}x^2z^2 - \\frac{5}{3}x^3y - 3x\\ln{z} + C =$$\n",
    "    \n",
    "$$= x^2 + 3x^2z^2 - \\frac{5}{3}x^3y - 3x\\ln{z} + C = x^2(3z^2 + 1) - \\frac{5}{3}x^3y - 3x\\ln{z} + C.$$"
   ]
  },
  {
   "cell_type": "markdown",
   "id": "44b74b11",
   "metadata": {},
   "source": [
    "### Задание 3 <a class='anchor' id='int_3'>\n",
    "    \n",
    "Вычислить определенный интеграл\n",
    "    \n",
    "$$\\int_{0}^{\\pi}3x^2\\sin(2x)dx.$$\n",
    "    \n",
    "Будем использовать интегрирование по частям:\n",
    "    \n",
    "$$\\int U dV = UV - \\int V dU.$$\n",
    "    \n",
    "Обозначим:\n",
    "    \n",
    "$$U = x^2 \\; \\Rightarrow \\; dU = 2xdx$$\n",
    "    \n",
    "$$dV = \\sin(2x)dx \\; \\Rightarrow \\; V = -\\frac{1}{2}\\cos(2x),$$\n",
    "    \n",
    "тогда\n",
    "    \n",
    "$$\\int_{0}^{\\pi} 3x^2\\sin(2x)dx = 3\\int_{0}^{\\pi} x^2\\sin(2x)dx = -\\frac{3}{2}x^2 \\cos(2x) \\Big|_0^{\\pi} + 3\\int_{0}^{\\pi} x\\cos(2x)dx = -\\frac{3}{2}\\pi^2 + 3\\int_{0}^{\\pi} x\\cos(2x)dx.$$\n",
    "    \n",
    "Найдем интеграл, \n",
    "\n",
    "$$\\int_{0}^{\\pi} x\\cos(2x)dx$$\n",
    "\n",
    "также применяя интегрирование по частям. \n",
    "    \n",
    "Обозначим:\n",
    "\n",
    "$$U = x \\; \\Rightarrow \\; dU = dx$$\n",
    "    \n",
    "$$dV = \\cos(2x)dx \\; \\Rightarrow \\; V = \\frac{1}{2}\\sin(2x),$$\n",
    "    \n",
    "тогда\n",
    "    \n",
    "$$\\int_{0}^{\\pi} x\\cos(2x)dx = \\frac{1}{2}x\\sin(2x) \\Big|_0^{\\pi} - \\frac{1}{2}\\int_{0}^{\\pi} \\sin(2x)dx = \\frac{1}{4} \\cos(2x) \\Big|_0^{\\pi} = 0.$$\n",
    "    \n",
    "Таким образом, получаем ответ\n",
    "    \n",
    "$$\\int_{0}^{\\pi}3x^2\\sin(2x)dx = -\\frac{3}{2}\\pi^2.$$"
   ]
  },
  {
   "cell_type": "markdown",
   "id": "6eb73c89",
   "metadata": {},
   "source": [
    "### Задание 4 <a class='anchor' id='int_4'>\n",
    "    \n",
    "Найти неопределнный интеграл.\n",
    "    \n",
    "$$\\int \\frac{1}{\\sqrt{x + 1}}dx = \\int (1 + x)^{-1/2}dx = \\int (1 + x)^{-1/2}d(x + 1) = 2\\sqrt{x + 1} + C.$$"
   ]
  }
 ],
 "metadata": {
  "kernelspec": {
   "display_name": "Python 3 (ipykernel)",
   "language": "python",
   "name": "python3"
  },
  "language_info": {
   "codemirror_mode": {
    "name": "ipython",
    "version": 3
   },
   "file_extension": ".py",
   "mimetype": "text/x-python",
   "name": "python",
   "nbconvert_exporter": "python",
   "pygments_lexer": "ipython3",
   "version": "3.9.7"
  }
 },
 "nbformat": 4,
 "nbformat_minor": 5
}
