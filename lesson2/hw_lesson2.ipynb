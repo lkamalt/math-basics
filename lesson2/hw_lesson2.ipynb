{
 "cells": [
  {
   "cell_type": "markdown",
   "id": "c65e38f2",
   "metadata": {},
   "source": [
    "# Оглавление\n",
    "1. [Введение в математический анализ](#start)\n",
    "    * [Задание 1](#start_1)\n",
    "    * [Задание 2](#start_2)\n",
    "        * [Пример 1](#start_2_1)\n",
    "        * [Пример 2](#start_2_2)\n",
    "        * [Пример 3](#start_2_3)\n",
    "        * [Пример 4](#start_2_4)\n",
    "        * [Пример 5](#start_2_5)\n",
    "        * [Пример 6](#start_2_6)\n",
    "        * [Пример 7](#start_2_7)\n",
    "2. [Множество](#set)\n",
    "    * [Задание 1](#set_1)\n",
    "        * [Объединение](#set_1_1)\n",
    "        * [Пересечение](#set_1_2)\n",
    "        * [Вычитание](#set_1_3)\n",
    "        * [Симметрическая разность](#set_1_4)\n",
    "    * [Задание 2](#set_2)\n",
    "        * [Объединение](#set_2_1)\n",
    "        * [Пересечение](#set_2_2)\n",
    "        * [Вычитание](#set_2_3)\n",
    "        * [Симметрическая разность](#set_2_4)\n",
    "3. [Последовательность](#seq)\n",
    "    * [Задание 1](#seq_1)\n",
    "        * [Пример 1](#seq_1_1)\n",
    "        * [Пример 2](#seq_1_2)\n",
    "        * [Пример 3](#seq_1_3)\n",
    "        * [Пример 4](#seq_1_4)\n",
    "    * [Задание 2](#seq_2)\n",
    "    * [Задание 3](#seq_3)"
   ]
  },
  {
   "cell_type": "markdown",
   "id": "bd165fe3",
   "metadata": {},
   "source": [
    "# Введение в математический анализ <a class='anchor' id='start'>"
   ]
  },
  {
   "cell_type": "markdown",
   "id": "691d2c60",
   "metadata": {},
   "source": [
    "### Задание 1 <a class='anchor' id='start_1'>"
   ]
  },
  {
   "cell_type": "markdown",
   "id": "2cb1b1da",
   "metadata": {},
   "source": [
    "Как соотносятся понятия “множество” и “последовательность”? (в ответе использовать слова типа: часть, целое, общее, частное, родитель, дочерний субъект и т.д.)\n",
    "\n",
    "Последовательность является частным случаем множества таким, что все его элементы можно пронумеровать натуральными числами. "
   ]
  },
  {
   "cell_type": "markdown",
   "id": "455232ca",
   "metadata": {},
   "source": [
    "### Задание 2 <a class='anchor' id='start_2'>"
   ]
  },
  {
   "cell_type": "markdown",
   "id": "c93490cb",
   "metadata": {},
   "source": [
    "Прочитать высказывания математической логики, построить их отрицания и установить истинность."
   ]
  },
  {
   "cell_type": "markdown",
   "id": "bc2818ff",
   "metadata": {},
   "source": [
    "**Пример 1** <a class='anchor' id='start_2_1'>"
   ]
  },
  {
   "cell_type": "markdown",
   "id": "d22f817a",
   "metadata": {},
   "source": [
    "$$\\forall y \\in [0; 1]: \\text{sgn} (y) = 1$$\n",
    "\n",
    "Для любого $y$ из отрезка $[0; 1]$ функция $\\text{sgn} (y)$ принимает значение равное 1.\n",
    "\n",
    "Это выражение является ложным, потому что при $y = 0$ функция $\\text{sgn}(y) = 0$.\n",
    "\n",
    "Построим отрицание:\n",
    "\n",
    "$$\\exists y \\in [0; 1] : \\text{sgn}(y) \\neq 1$$\n",
    "\n",
    "Существует $y$ из отрезка $[0; 1]$ такой, что функция $\\text{sgn}(y)$ не равна 1."
   ]
  },
  {
   "cell_type": "markdown",
   "id": "1bc2b2ee",
   "metadata": {},
   "source": [
    "**Пример 2** <a class='anchor' id='start_2_2'>"
   ]
  },
  {
   "cell_type": "markdown",
   "id": "7dd8203a",
   "metadata": {},
   "source": [
    "$$\\forall n \\in \\mathbb {N} > 2 : \\exists x, y, z \\in \\mathbb {N} : x^n = y^n + z^n$$\n",
    "\n",
    "Для любого натурального $n$ > 2 существует x, y, z из множества натуральных чисел такие, что выполняется следуюущее равенство $x^n = y^n + z^n$.\n",
    "\n",
    "Согласно великой теореме Ферма, данное высказывание является ложным, так как терема Ферма гласит, что приведенное уравнение не имеет решений в целых ненулевых числах $x$, $y$, $z$, здесь же рассматривается подмножество целых чисел.\n",
    "\n",
    "Построим отрицание:\n",
    "\n",
    "$$\\exists n \\in \\mathbb {N} > 2 : \\forall x, y, z \\in \\mathbb {N} : x^n \\neq y^n + z^n$$\n",
    "\n",
    "Существует натуральное число n > 2, такое что для любых $x$, $y$, $z$ из множества натуральных чисел не выполняется равенство."
   ]
  },
  {
   "cell_type": "markdown",
   "id": "3acfafc2",
   "metadata": {},
   "source": [
    "**Пример 3** <a class='anchor' id='start_2_3'>"
   ]
  },
  {
   "cell_type": "markdown",
   "id": "070ecb05",
   "metadata": {},
   "source": [
    "$$\\forall x \\in \\mathbb {R} \\exists X \\in \\mathbb{R} : X > x$$\n",
    "\n",
    "Для любого вещественного числа $x$ существует другое вещественное число $X$ такое, что $X > x$.\n",
    "\n",
    "Это утверждение верно.\n",
    "\n",
    "Построим отрицание:\n",
    "\n",
    "$$\\exists x \\in \\mathbb{R} : \\forall X \\in \\mathbb{R} : X \\le x$$\n",
    "\n",
    "Существует такое вещественное число $x$, что для любого другого числа $X$ из множества вещественных чисел, число $X$ будет меньше или равно числу $x$."
   ]
  },
  {
   "cell_type": "markdown",
   "id": "6c301a67",
   "metadata": {},
   "source": [
    "**Пример 4** <a class='anchor' id='start_2_4'>"
   ]
  },
  {
   "cell_type": "markdown",
   "id": "b45e8ef5",
   "metadata": {},
   "source": [
    "$$\\forall x \\in \\mathbb{C} \\; \\nexists y \\in \\mathbb{C} : x > y \\; || \\; x < y$$\n",
    "\n",
    "Для любого комплексного числа $x$ не существует другого комплексного числа $y$, такого что $x$ был бы меньше или больше числа $y$. \n",
    "\n",
    "Это высказывание верно, так как комплексные числа нельзя сравнивать межуд собой на больше или меньше.\n",
    "\n",
    "Посмотрим отрицание:\n",
    "\n",
    "$$\\exists x, y \\in \\mathbb{C} : x > y \\; || \\; x < y$$\n",
    "\n",
    "Существуют два комплексных числа $x, y$ такие, что для них будет выполняться одно из неравенств $x > y$ или $x < y$."
   ]
  },
  {
   "cell_type": "markdown",
   "id": "26af9885",
   "metadata": {},
   "source": [
    "**Пример 5** <a class='anchor' id='start_2_5'>"
   ]
  },
  {
   "cell_type": "markdown",
   "id": "4db36540",
   "metadata": {},
   "source": [
    "$$\\forall y \\in \\left[0; \\frac{\\pi}{2}\\right] \\; \\exists \\varepsilon > 0 : \\sin(y) < \\sin(y + \\varepsilon)$$\n",
    "\n",
    "Для любого $y$ из отрезка $\\left[0; \\frac{\\pi}{2}\\right]$ существует $\\varepsilon > 0$ такое, что верно неравенство $\\sin(y) < \\sin(y + \\varepsilon)$.\n",
    "\n",
    "Это высказывание ложно, потому что оно не выполняется при значении $y = 0$. \n",
    "\n",
    "При $y = 0$ в левой части неравенства будет 1 - верхняя граница значений функции $\\sin(y)$.\n",
    "\n",
    "\n",
    "Отрицание:\n",
    "\n",
    "$$\\exists y \\in \\left[0; \\frac{\\pi}{2}\\right] : \\forall \\varepsilon > 0 : \\sin(y) \\ge \\sin(y + \\varepsilon)$$\n",
    "\n",
    "Существует число $y$ из отрезка $\\left[0; \\frac{\\pi}{2}\\right]$ такое, что для любого $\\varepsilon > 0$ будет выполняться неравенство $\\sin(y) \\ge \\sin(y + \\varepsilon)$."
   ]
  },
  {
   "cell_type": "markdown",
   "id": "9c20d6d4",
   "metadata": {},
   "source": [
    "**Пример 6** <a class='anchor' id='start_2_6'>"
   ]
  },
  {
   "cell_type": "markdown",
   "id": "3afbaa15",
   "metadata": {},
   "source": [
    "$$\\forall y \\in [0; \\pi) \\; \\exists \\varepsilon > 0 : \\cos(y) > \\cos(y + \\varepsilon)$$\n",
    "\n",
    "Для любого $y$ из полуинтервала $[0; \\pi)$ существует $\\varepsilon > 0$ такое, что выполняется неравенство $\\cos(y) > \\cos(y + \\varepsilon)$.\n",
    "\n",
    "Это высказывание верно, потому что для любого числа $y$ из полуинтервала $[0; \\pi)$ существует число $\\varepsilon = \\pi - y$, при котором в правой части неравенства будет -1 - нижняя граница значений функции $\\cos(y)$, а в левой части будет $\\cos(y) \\in (-1; 1]$, потому что $\\pi$ не входит в интервал для $y$.\n",
    "\n",
    "Отрицание:\n",
    "\n",
    "$$\\exists y \\in [0; \\pi) : \\forall \\varepsilon > 0 : \\cos(y) \\le \\cos(y + \\varepsilon)$$\n",
    "\n",
    "Существует число $y$ из полуинтервала $[0; \\pi)$ такое, что для любого $\\varepsilon > 0$ будет выполняться неравенство $\\cos(y) \\le \\cos(y + \\varepsilon)$."
   ]
  },
  {
   "cell_type": "markdown",
   "id": "218880e4",
   "metadata": {},
   "source": [
    "**Пример 7** <a class='anchor' id='start_2_7'>"
   ]
  },
  {
   "cell_type": "markdown",
   "id": "47643905",
   "metadata": {},
   "source": [
    "$$\\exists x : x \\notin \\{\\mathbb{N}, \\mathbb{Z}, \\mathbb{Q}, \\mathbb{R}, \\mathbb{C}\\}$$\n",
    "\n",
    "Существует такое число $x$, которое не принадлежит множеству чисел $\\{\\mathbb{N}, \\mathbb{Z}, \\mathbb{Q}, \\mathbb{R}, \\mathbb{C}\\}$.\n",
    "\n",
    "Это утверждение ложно, потому что множество $\\{\\mathbb{N}, \\mathbb{Z}, \\mathbb{Q}, \\mathbb{R}, \\mathbb{C}\\}$ является множеством всех чисел.\n",
    "\n",
    "Отрицание:\n",
    "$$\\forall x \\in \\{\\mathbb{N}, \\mathbb{Z}, \\mathbb{Q}, \\mathbb{R}, \\mathbb{C}\\}$$\n",
    "\n",
    "Любое число принадлежит множеству чисел."
   ]
  },
  {
   "cell_type": "markdown",
   "id": "fc648a39",
   "metadata": {},
   "source": [
    "# Множество <a class='anchor' id='set'>"
   ]
  },
  {
   "cell_type": "markdown",
   "id": "b8848ad0",
   "metadata": {},
   "source": [
    "### Задание 1 <a class='anchor' id='set_1'>\n",
    "\n",
    "Даны три множества A,B и C. Необходимо выполнить все изученные виды бинарных операций над всеми комбинациями множеств."
   ]
  },
  {
   "cell_type": "markdown",
   "id": "11d9c0ab",
   "metadata": {},
   "source": [
    "$$A = \\{1, 2, 4, 5, 8 \\}$$\n",
    "$$B = \\{2, 3, 4, 10, 12 \\}$$\n",
    "$$C = \\{1, 5, 8, 9, 10 \\}$$"
   ]
  },
  {
   "cell_type": "markdown",
   "id": "68b545aa",
   "metadata": {},
   "source": [
    "**Объединение** <a class='anchor' id='set_1_1'>"
   ]
  },
  {
   "cell_type": "markdown",
   "id": "55f5b588",
   "metadata": {},
   "source": [
    "$$A \\cup B = \\{1, 2, 3, 4, 5, 8, 10, 12 \\}$$\n",
    "$$A \\cup C = \\{ 1, 2, 4, 5, 8, 9, 10 \\}$$\n",
    "$$B \\cup C = \\{ 1, 2, 3, 4, 5, 8, 9, 10, 12 \\}$$"
   ]
  },
  {
   "cell_type": "markdown",
   "id": "f2c351ab",
   "metadata": {},
   "source": [
    "**Пересечение** <a class='anchor' id='set_1_2'>"
   ]
  },
  {
   "cell_type": "markdown",
   "id": "d21e72f8",
   "metadata": {},
   "source": [
    "$$A \\cap B = \\{ 2, 4 \\}$$\n",
    "$$A \\cap C = \\{ 1, 5, 8 \\}$$\n",
    "$$B \\cap C = \\{ 10 \\}$$"
   ]
  },
  {
   "cell_type": "markdown",
   "id": "a4c8615e",
   "metadata": {},
   "source": [
    "**Разность** <a class='anchor' id='set_1_3'>"
   ]
  },
  {
   "cell_type": "markdown",
   "id": "ab57d9f2",
   "metadata": {},
   "source": [
    "$$A \\setminus B = \\{ 1, 5, 8 \\}$$\n",
    "$$A \\setminus C = \\{ 2, 4 \\}$$\n",
    "$$B \\setminus C = \\{ 2, 3, 4, 12 \\}$$"
   ]
  },
  {
   "cell_type": "markdown",
   "id": "4a646617",
   "metadata": {},
   "source": [
    "**Симметрическая разность** <a class='anchor' id='set_1_4'>"
   ]
  },
  {
   "cell_type": "markdown",
   "id": "ba5a3608",
   "metadata": {},
   "source": [
    "$$A \\Delta B = \\{ 1, 3, 5, 8, 10, 12 \\}$$\n",
    "$$A \\Delta C = \\{ 2, 4, 9, 10 \\}$$\n",
    "$$B \\Delta C = \\{ 1, 2, 3, 4, 5, 8, 9, 12 \\}$$"
   ]
  },
  {
   "cell_type": "markdown",
   "id": "aa7bad66",
   "metadata": {},
   "source": [
    "### Задание 2 <a class='anchor' id='set_2'>\n",
    "Выполнить задание 1 на языке Python."
   ]
  },
  {
   "cell_type": "code",
   "execution_count": 1,
   "id": "24ff164d",
   "metadata": {},
   "outputs": [],
   "source": [
    "A = {1, 2, 4, 5, 8}\n",
    "B = {2, 3, 4, 10, 12}\n",
    "C = {1, 5, 8, 9, 10}"
   ]
  },
  {
   "cell_type": "markdown",
   "id": "d1416001",
   "metadata": {},
   "source": [
    "**Объединение** <a class='anchor' id='set_2_1'>"
   ]
  },
  {
   "cell_type": "code",
   "execution_count": 2,
   "id": "f1f7d62a",
   "metadata": {},
   "outputs": [
    {
     "name": "stdout",
     "output_type": "stream",
     "text": [
      "{1, 2, 3, 4, 5, 8, 10, 12}\n",
      "{1, 2, 3, 4, 5, 8, 10, 12}\n"
     ]
    }
   ],
   "source": [
    "print(A | B)\n",
    "print(A.union(B))"
   ]
  },
  {
   "cell_type": "code",
   "execution_count": 3,
   "id": "138f6ba3",
   "metadata": {},
   "outputs": [
    {
     "name": "stdout",
     "output_type": "stream",
     "text": [
      "{1, 2, 4, 5, 8, 9, 10}\n",
      "{1, 2, 4, 5, 8, 9, 10}\n"
     ]
    }
   ],
   "source": [
    "print(A | C)\n",
    "print(A.union(C))"
   ]
  },
  {
   "cell_type": "code",
   "execution_count": 4,
   "id": "12169f19",
   "metadata": {},
   "outputs": [
    {
     "name": "stdout",
     "output_type": "stream",
     "text": [
      "{1, 2, 3, 4, 5, 8, 9, 10, 12}\n",
      "{1, 2, 3, 4, 5, 8, 9, 10, 12}\n"
     ]
    }
   ],
   "source": [
    "print(B | C)\n",
    "print(B.union(C))"
   ]
  },
  {
   "cell_type": "markdown",
   "id": "9259a55c",
   "metadata": {},
   "source": [
    "**Пересечение** <a class='anchor' id='set_2_2'>"
   ]
  },
  {
   "cell_type": "code",
   "execution_count": 5,
   "id": "1f037e80",
   "metadata": {},
   "outputs": [
    {
     "name": "stdout",
     "output_type": "stream",
     "text": [
      "{2, 4}\n",
      "{2, 4}\n"
     ]
    }
   ],
   "source": [
    "print(A & B)\n",
    "print(A.intersection(B))"
   ]
  },
  {
   "cell_type": "code",
   "execution_count": 6,
   "id": "f067246e",
   "metadata": {},
   "outputs": [
    {
     "name": "stdout",
     "output_type": "stream",
     "text": [
      "{8, 1, 5}\n",
      "{8, 1, 5}\n"
     ]
    }
   ],
   "source": [
    "print(A & C)\n",
    "print(A.intersection(C))"
   ]
  },
  {
   "cell_type": "code",
   "execution_count": 7,
   "id": "a4bbba23",
   "metadata": {},
   "outputs": [
    {
     "name": "stdout",
     "output_type": "stream",
     "text": [
      "{10}\n",
      "{10}\n"
     ]
    }
   ],
   "source": [
    "print(B & C)\n",
    "print(B.intersection(C))"
   ]
  },
  {
   "cell_type": "markdown",
   "id": "22a3e760",
   "metadata": {},
   "source": [
    "**Разность** <a class='anchor' id='set_2_3'>"
   ]
  },
  {
   "cell_type": "code",
   "execution_count": 8,
   "id": "3a02348c",
   "metadata": {},
   "outputs": [
    {
     "name": "stdout",
     "output_type": "stream",
     "text": [
      "{8, 1, 5}\n",
      "{8, 1, 5}\n"
     ]
    }
   ],
   "source": [
    "print(A - B)\n",
    "print(A.difference(B))"
   ]
  },
  {
   "cell_type": "code",
   "execution_count": 9,
   "id": "3b7e7c04",
   "metadata": {},
   "outputs": [
    {
     "name": "stdout",
     "output_type": "stream",
     "text": [
      "{2, 4}\n",
      "{2, 4}\n"
     ]
    }
   ],
   "source": [
    "print(A - C)\n",
    "print(A.difference(C))"
   ]
  },
  {
   "cell_type": "code",
   "execution_count": 10,
   "id": "2df79994",
   "metadata": {},
   "outputs": [
    {
     "name": "stdout",
     "output_type": "stream",
     "text": [
      "{2, 3, 4, 12}\n",
      "{2, 3, 4, 12}\n"
     ]
    }
   ],
   "source": [
    "print(B - C)\n",
    "print(B.difference(C))"
   ]
  },
  {
   "cell_type": "markdown",
   "id": "34d5b994",
   "metadata": {},
   "source": [
    "**Симметрическая разность** <a class='anchor' id='set_2_4'>"
   ]
  },
  {
   "cell_type": "code",
   "execution_count": 11,
   "id": "aae49795",
   "metadata": {},
   "outputs": [
    {
     "name": "stdout",
     "output_type": "stream",
     "text": [
      "{1, 3, 5, 8, 10, 12}\n",
      "{1, 3, 5, 8, 10, 12}\n"
     ]
    }
   ],
   "source": [
    "print(A ^ B)\n",
    "print(A.symmetric_difference(B))"
   ]
  },
  {
   "cell_type": "code",
   "execution_count": 12,
   "id": "82cb40bf",
   "metadata": {},
   "outputs": [
    {
     "name": "stdout",
     "output_type": "stream",
     "text": [
      "{2, 4, 9, 10}\n",
      "{2, 4, 9, 10}\n"
     ]
    }
   ],
   "source": [
    "print(A ^ C)\n",
    "print(A.symmetric_difference(C))"
   ]
  },
  {
   "cell_type": "code",
   "execution_count": 13,
   "id": "8349ede1",
   "metadata": {},
   "outputs": [
    {
     "name": "stdout",
     "output_type": "stream",
     "text": [
      "{1, 2, 3, 4, 5, 8, 9, 12}\n",
      "{1, 2, 3, 4, 5, 8, 9, 12}\n"
     ]
    }
   ],
   "source": [
    "print(B ^ C)\n",
    "print(B.symmetric_difference(C))"
   ]
  },
  {
   "cell_type": "markdown",
   "id": "1210ab09",
   "metadata": {},
   "source": [
    "# Последовательность <a class='anchor' id='seq'>"
   ]
  },
  {
   "cell_type": "markdown",
   "id": "026ff9f2",
   "metadata": {},
   "source": [
    "### Задание 1 <a class='anchor' id='seq_1'>\n",
    "Даны 4 последовательности. Необходимо:\n",
    "* исследовать их на монотонность;\n",
    "* исследовать на ограниченность;\n",
    "* найти пятый по счету член.\n",
    "$$\\{a_n\\}_{n=1}^{\\infty} = 2^n - n$$\n",
    "\n",
    "$$\\{b_n\\}_{n=2}^{\\infty} = \\frac{1}{1 - n}$$\n",
    "\n",
    "$$\\{c_n\\}_{n=1}^{\\infty} = -1^n + \\sqrt{2n}$$\n",
    "\n",
    "$$\\{d_n\\}_{n=1}^{\\infty} = (-1)^{2n} + \\frac{1}{n^2}$$"
   ]
  },
  {
   "cell_type": "code",
   "execution_count": 14,
   "id": "a8feacae",
   "metadata": {},
   "outputs": [],
   "source": [
    "import matplotlib.pyplot as plt\n",
    "import numpy as np"
   ]
  },
  {
   "cell_type": "markdown",
   "id": "ac73ef7e",
   "metadata": {},
   "source": [
    "**Пример 1** <a class='anchor' id='seq_1_1'>"
   ]
  },
  {
   "cell_type": "markdown",
   "id": "ac9dc601",
   "metadata": {},
   "source": [
    "$$\\{a_n\\}_{n=1}^{\\infty} = 2^n - n$$\n",
    "\n",
    "Исследуем последовательность на монотонность:\n",
    "\n",
    "$$a_{n + 1} - a_n = 2^{n + 1} - n - 1 - 2^n + n = 2^n - 1 > 0, \\; n \\ge 1,$$\n",
    "\n",
    "то есть $a_n < a_{n + 1}$, значит последовательность является монотонной, **возрастающей**.\n",
    "\n",
    "Исследуем на ограниченность.\n",
    "\n",
    "Последовательность ограничена снизу значением 1. Очевидно, что при $n \\to \\infty$ последовательность стремится к $\\infty$, то есть она не ограничена сверху, так как показательная функция растет быстрее.\n",
    "\n",
    "Отобразим график для наглядности."
   ]
  },
  {
   "cell_type": "code",
   "execution_count": 15,
   "id": "74ae906a",
   "metadata": {
    "scrolled": false
   },
   "outputs": [
    {
     "data": {
      "image/png": "[encoded data removed]",
      "text/plain": [
       "<Figure size 432x288 with 1 Axes>"
      ]
     },
     "metadata": {
      "needs_background": "light"
     },
     "output_type": "display_data"
    }
   ],
   "source": [
    "x = np.linspace(1, 100, 100)\n",
    "y = np.power(2, x) - x\n",
    "\n",
    "plt.plot(x, y)\n",
    "plt.grid()\n",
    "plt.show()"
   ]
  },
  {
   "cell_type": "markdown",
   "id": "a17bffcf",
   "metadata": {},
   "source": [
    "На графике видно, что последовательность действительно монотонно возрастает и не ограничена сверху.\n",
    "\n",
    "Найдем пятый по счету член:\n",
    "$$a_5 = 2^5 - 5 = 27.$$"
   ]
  },
  {
   "cell_type": "markdown",
   "id": "0a2a0c48",
   "metadata": {},
   "source": [
    "**Пример 2** <a class='anchor' id='seq_1_2'>"
   ]
  },
  {
   "cell_type": "markdown",
   "id": "ffcef78f",
   "metadata": {},
   "source": [
    "$$\\{b_n\\}_{n=2}^{\\infty} = \\frac{1}{1 - n}$$\n",
    "\n",
    "Исследуем последовательность на монотонность:\n",
    "$$b_{n + 1} - b_n = -\\frac{1}{n} - \\frac{1}{1 - n} = -\\frac{1}{n(1 - n)} = \\frac{1}{n(n-1)} > 0, \\; n \\ge 2.$$\n",
    "\n",
    "Таким образом, $b_n < b_{n + 1}$, значит последовательность является монотонной, **возрастающей**.\n",
    "\n",
    "Исследуем на ограниченность.\n",
    "\n",
    "Последовательность ограничена снизу значением -1. Очевидно, что при $n \\to \\infty$ последовательность стремится к 0, то есть она ограничена сверху значением 0.\n",
    "\n",
    "Отобразим график для наглядности."
   ]
  },
  {
   "cell_type": "code",
   "execution_count": 16,
   "id": "8f3e92a9",
   "metadata": {
    "scrolled": true
   },
   "outputs": [
    {
     "data": {
      "image/png": "[encoded data removed]",
      "text/plain": [
       "<Figure size 432x288 with 1 Axes>"
      ]
     },
     "metadata": {
      "needs_background": "light"
     },
     "output_type": "display_data"
    }
   ],
   "source": [
    "x = np.linspace(2, 100, 100)\n",
    "y = 1.0 / (1 - x)\n",
    "\n",
    "plt.plot(x, y)\n",
    "plt.grid()\n",
    "plt.show()"
   ]
  },
  {
   "cell_type": "markdown",
   "id": "55b080c8",
   "metadata": {},
   "source": [
    "На графике видно, что последовательность ограничена сверху числом 0 и монотонно возрастает.\n",
    "\n",
    "Найдем пятый по счету член:\n",
    "$$b_5 = \\frac{1}{1 - 5} = -\\frac{1}{4}.$$"
   ]
  },
  {
   "cell_type": "markdown",
   "id": "bdd3de42",
   "metadata": {},
   "source": [
    "**Пример 3** <a class='anchor' id='seq_1_3'>"
   ]
  },
  {
   "cell_type": "markdown",
   "id": "b8da7532",
   "metadata": {},
   "source": [
    "$$\\{c_n\\}_{n=1}^{\\infty} = -1^n + \\sqrt{2n}$$\n",
    "\n",
    "Исследуем последовательность на монотонность:\n",
    "$$с_{n + 1} - с_n = -1^{n + 1} + \\sqrt{2n + 2} + 1^n - \\sqrt{2n} = -1 + \\sqrt{2n + 2} + 1 - \\sqrt{2n} = \\sqrt{2n + 2} - \\sqrt{2n} > 0, \\; n \\ge 1.$$\n",
    "\n",
    "Видно, что последовательность является монотонной, **возрастающей**, потому что $\\sqrt{2n + 2} > \\sqrt{2n}$, то есть $c_n < c_{n + 1}$ .\n",
    "\n",
    "Исследуем на ограниченность.\n",
    "\n",
    "Последовательность ограничена снизу значением $\\sqrt{2} - 1$. Очевидно, что при $n \\to \\infty$ последовательность стремится к $\\infty$, то есть она не ограничена сверху.\n",
    "\n",
    "Отобразим график для наглядности."
   ]
  },
  {
   "cell_type": "code",
   "execution_count": 17,
   "id": "f0c93218",
   "metadata": {
    "scrolled": true
   },
   "outputs": [
    {
     "data": {
      "image/png": "[encoded data removed]",
      "text/plain": [
       "<Figure size 432x288 with 1 Axes>"
      ]
     },
     "metadata": {
      "needs_background": "light"
     },
     "output_type": "display_data"
    }
   ],
   "source": [
    "x = np.linspace(1, 100, 100)\n",
    "y = -np.power(1, x) + np.sqrt(2 * x)\n",
    "\n",
    "plt.plot(x, y)\n",
    "plt.grid()\n",
    "plt.show()"
   ]
  },
  {
   "cell_type": "markdown",
   "id": "0e4bd590",
   "metadata": {},
   "source": [
    "На графике видно, что последовательность действительно не является монотонной.\n",
    "\n",
    "Найдем пятый по счету член:\n",
    "$$c_5 = -1^5 + \\sqrt{2 \\cdot 5} = -1 + \\sqrt{10}.$$"
   ]
  },
  {
   "cell_type": "markdown",
   "id": "d2eebb5d",
   "metadata": {},
   "source": [
    "**Пример 4** <a class='anchor' id='seq_1_4'>"
   ]
  },
  {
   "cell_type": "markdown",
   "id": "d60aaab1",
   "metadata": {},
   "source": [
    "$$\\{d_n\\}_{n=1}^{\\infty} = (-1)^{2n} + \\frac{1}{n^2}$$\n",
    "\n",
    "Исследуем последовательность на монотонность:\n",
    "$$d_{n + 1} - d_n = (-1)^{2(n + 1)} + \\frac{1}{(n + 1)^2} - (-1)^{2n} - \\frac{1}{n^2} = 1 + \\frac{1}{(n + 1)^2} - 1 - \\frac{1}{n^2} = \\frac{1}{(n + 1)^2} - \\frac{1}{n^2} < 0 , \\; n \\ge 1.$$\n",
    "\n",
    "Первое слагаемое в полученном выражении меньше второго, потому при заданных условиях его знаменатель больше, чем знаменатель второго слагаемого. Следовательно $d_n > d_{n + 1}$, то есть последовательность является монотонной, **убывающей**.\n",
    "\n",
    "Исследуем на ограниченность.\n",
    "\n",
    "Последовательность ограничена сверху значением 2. Очевидно, что при $n \\to \\infty$ последовательность стремится к 1, потому что при стремлении $n \\to \\infty$ второе слагаемое дает 0, а первое слагаемое всегда 1. Таким образом, последовательность ограничена снизу значением 1."
   ]
  },
  {
   "cell_type": "code",
   "execution_count": 18,
   "id": "703d2ec7",
   "metadata": {
    "scrolled": true
   },
   "outputs": [
    {
     "data": {
      "image/png": "[encoded data removed]",
      "text/plain": [
       "<Figure size 432x288 with 1 Axes>"
      ]
     },
     "metadata": {
      "needs_background": "light"
     },
     "output_type": "display_data"
    }
   ],
   "source": [
    "x = np.linspace(1, 100, 100)\n",
    "y = np.power(-1, 2 * x) + 1.0 / np.power(x, 2)\n",
    "\n",
    "plt.plot(x, y)\n",
    "plt.grid()\n",
    "plt.show()"
   ]
  },
  {
   "cell_type": "markdown",
   "id": "6e628b33",
   "metadata": {},
   "source": [
    "На графике видно, что последовательность действительно ограничена снизу числом 1 и монотонно убывает.\n",
    "\n",
    "Найдем пятый по счету член:\n",
    "$$d_5 = (-1)^{10} + \\frac{1}{25} = 1 + \\frac{1}{25} = \\frac{26}{25}.$$"
   ]
  },
  {
   "cell_type": "markdown",
   "id": "163d9e4a",
   "metadata": {},
   "source": [
    "### Задание 2 <a class='anchor' id='seq_2'>\n",
    "Найти 12-й член заданной неявно последовательности\n",
    "$$a_1 = 128, a_{n + 1} - a_n = 6.$$"
   ]
  },
  {
   "cell_type": "markdown",
   "id": "927cc399",
   "metadata": {},
   "source": [
    "Данная последовательность является арифметической прогрессией. \n",
    "\n",
    "Любой член арифметической прогресси может быть вычислен по общей формуле арифметической прогрессии:\n",
    "$$a_n = a_1 + d(n - 1),$$\n",
    "\n",
    "где $d$ - разность арифметической прогрессии:\n",
    "$$d = a_{n + 1} - a_n.$$\n",
    "\n",
    "Таким образом, для 12-го члена получаем:\n",
    "$$a_{12} = a_1 + d(n - 1) = 128 + 6 \\cdot 11 = 194.$$"
   ]
  },
  {
   "cell_type": "markdown",
   "id": "f986d26d",
   "metadata": {},
   "source": [
    "### Задание 3 <a class='anchor' id='seq_3'>\n",
    "На языке Python предложить алгоритм, вычисляющий численно предел с точностью $\\varepsilon=10^{-7}$\n",
    "$$\\lim_{n \\to +\\infty} \\frac{n}{\\sqrt[\\leftroot{-2}\\uproot{2} n]{n!}}.$$"
   ]
  },
  {
   "cell_type": "code",
   "execution_count": 19,
   "id": "35c81615",
   "metadata": {},
   "outputs": [],
   "source": [
    "def calc_limit(tolerance=1e-7):\n",
    "    \"\"\" Функция для численного вычисления предела с заданной точностью \"\"\"\n",
    "    k = 2\n",
    "    prev = 0\n",
    "    while True:\n",
    "        n = np.power(2, k)\n",
    "        curr = 1.0 / np.power(2 * np.pi * n, 0.5 / n)\n",
    "        if np.isclose(curr, prev, rtol=tolerance):\n",
    "            break\n",
    "            \n",
    "        prev = curr\n",
    "        k += 1\n",
    "    return np.e * curr"
   ]
  },
  {
   "cell_type": "markdown",
   "id": "2eadb6d6",
   "metadata": {},
   "source": [
    "Факториал из знаменателя дроби вычислим по формуле Стирлинга:\n",
    "\n",
    "$$n! \\approx \\sqrt{2 \\pi n} \\left( \\frac{n}{e} \\right)^n.$$\n",
    "\n",
    "Подставим в знаменатель:\n",
    "\n",
    "$$\\sqrt[\\leftroot{-2}\\uproot{2} n]{n!} = (n!)^{\\frac{1}{n}} = \\left[ \\sqrt{2 \\pi n} \\left( \\frac{n}{e} \\right)^n \\right]^{\\frac{1}{n}} = \\frac{n}{e} (2 \\pi n)^{\\frac{1}{2n}}.$$\n",
    "\n",
    "Таким образом, подставляя в исходное выражение, получаем:\n",
    "\n",
    "$$\\frac{n}{\\sqrt[\\leftroot{-2}\\uproot{2} n]{n!}} = \\frac{e}{(2 \\pi n)^{\\frac{1}{2n}}}.$$\n",
    "\n",
    "Тогда можно вычислить следующий предел вместо исходного:\n",
    "\n",
    "$$\\lim_{n \\to +\\infty} \\frac{n}{\\sqrt[\\leftroot{-2}\\uproot{2} n]{n!}} = e \\lim_{n \\to +\\infty} \\frac{1}{(2 \\pi n)^{\\frac{1}{2n}}} = e.$$\n",
    "\n",
    "Распишем отдельно вычисление предела в знаменателе:\n",
    "$$\\lim_{n \\to +\\infty} (2 \\pi n)^{\\frac{1}{2n}} = \\lim_{n \\to +\\infty} \\pi^{\\frac{1}{2n}} \\cdot \\lim_{n \\to +\\infty} (2 n)^{\\frac{1}{2n}} = 1 \\cdot 1 = 1.$$\n",
    "\n",
    "Первое слагаемое вычислили по свойству: \n",
    "$$\\lim_{n \\to +\\infty} a^{\\frac{1}{n}} = 1, \\; a > 1,$$\n",
    "\n",
    "а второе слагаемое по свойству:\n",
    "\n",
    "$$\\lim_{n \\to +\\infty} n^{\\frac{1}{n}} = 1.$$"
   ]
  },
  {
   "cell_type": "code",
   "execution_count": 20,
   "id": "1d93417b",
   "metadata": {},
   "outputs": [
    {
     "data": {
      "text/plain": [
       "2.718281620332891"
      ]
     },
     "execution_count": 20,
     "metadata": {},
     "output_type": "execute_result"
    }
   ],
   "source": [
    "calc_limit()"
   ]
  },
  {
   "cell_type": "code",
   "execution_count": null,
   "id": "c8a697f0",
   "metadata": {},
   "outputs": [],
   "source": []
  }
 ],
 "metadata": {
  "kernelspec": {
   "display_name": "Python 3 (ipykernel)",
   "language": "python",
   "name": "python3"
  },
  "language_info": {
   "codemirror_mode": {
    "name": "ipython",
    "version": 3
   },
   "file_extension": ".py",
   "mimetype": "text/x-python",
   "name": "python",
   "nbconvert_exporter": "python",
   "pygments_lexer": "ipython3",
   "version": "3.9.7"
  }
 },
 "nbformat": 4,
 "nbformat_minor": 5
}
