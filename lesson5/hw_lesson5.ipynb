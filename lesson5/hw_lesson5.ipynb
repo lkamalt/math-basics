{
 "cells": [
  {
   "cell_type": "markdown",
   "id": "5b9ab604",
   "metadata": {},
   "source": [
    "# Оглавление\n",
    "1. [Теоремы о пределах](#lims_theorem)\n",
    "    * [Задание 1](#lims_theorem_1)\n",
    "        * [Пример 1](#lims_theorem_1_1)\n",
    "        * [Пример 2](#lims_theorem_1_2)\n",
    "        * [Пример 3](#lims_theorem_1_3)"
   ]
  },
  {
   "cell_type": "markdown",
   "id": "4d75d532",
   "metadata": {},
   "source": [
    "# Теоремы о пределах <a class='anchor' id='lims_theorem'>"
   ]
  },
  {
   "cell_type": "markdown",
   "id": "ee1d5bd3",
   "metadata": {},
   "source": [
    "### Задание 1 <a class='anchor' id='lims_theorem_1'>\n",
    "    \n",
    "Найти предел."
   ]
  },
  {
   "cell_type": "markdown",
   "id": "be701498",
   "metadata": {},
   "source": [
    "**Пример 1** <a class='anchor' id='lims_theorem_1_1'>\n",
    "    \n",
    "$$\\lim_{x \\to 0} \\frac{x}{\\arcsin(x)} = \\left| \\begin{matrix}\n",
    "   \\arcsin(x) = y \\\\\n",
    "   x = \\sin(y) \\\\\n",
    "   y \\to 0\n",
    "\\end{matrix} \\right| = \\lim_{y \\to 0} \\frac{\\sin(y)}{y} = 1.$$\n",
    "    \n",
    "Порядок решения:\n",
    "\n",
    "1) произвели замену $\\arcsin(x) = y$, тогда $x = \\sin(y)$, и при $x \\to 0$, $у$ тоже будет стремиться к 0;\n",
    "    \n",
    "2) после замены получили первый замечательный предел, который равен 1."
   ]
  },
  {
   "cell_type": "markdown",
   "id": "e03508be",
   "metadata": {},
   "source": [
    "**Пример 2** <a class='anchor' id='lims_theorem_1_2'>\n",
    "    \n",
    "$$\\lim_{x \\to \\infty} \\left( \\frac{4x + 3}{4x - 3} \\right)^{6x} = \\lim_{x \\to \\infty} \\left( \\frac{4x - 3 + 6}{4x - 3} \\right)^{6x} = \\lim_{x \\to \\infty} \\left( 1 + \\frac{6}{4x - 3} \\right)^{6x} = \\lim_{x \\to \\infty} \\left( 1 + \\frac{6}{4x - 3} \\right)^{\\frac{4x - 3}{6}\\frac{6}{4x - 3}6x} = e^{\\lim_{x \\to \\infty} \\frac{36x}{4x - 3}} = e^9.$$\n",
    "\n",
    "Порядок решения:\n",
    "\n",
    "1) в числителе выражения $\\frac{4x + 3}{4x - 3}$ добавили и вычли 3;\n",
    "\n",
    "$$\\frac{4x + 3}{4x - 3} = \\frac{4x + 3 + 3 - 3}{4x - 3} = \\frac{4x - 3 + 6}{4x - 3};$$\n",
    "\n",
    "2) сгруппировали слагаемве в числителе и разделили на знаменатель:\n",
    "    \n",
    "$$\\frac{4x - 3 + 6}{4x - 3} = \\frac{4x - 3}{4x - 3} + \\frac{6}{4x - 3} = 1 + \\frac{6}{4x - 3};$$\n",
    "    \n",
    "3) показатель степени умножили и разделили на $\\frac{4x - 3}{6}:$\n",
    "    \n",
    "$$6x = \\frac{4x - 3}{6}\\frac{6}{4x - 3}6x;$$\n",
    "    \n",
    "4) после преобразований получили второй замечательный предел:\n",
    "    \n",
    "$$\\lim_{x \\to \\infty} \\left( 1 + \\frac{6}{4x - 3} \\right)^{\\frac{4x - 3}{6}} = e;$$\n",
    "\n",
    "5) использовали свойство, согласно которому предел можно перенести на степень, если основание является константой:\n",
    "    \n",
    "$$\\lim_{x \\to \\alpha} a^{f(x)} = a^{\\lim_{x \\to \\alpha} f(x)},$$\n",
    "    \n",
    "$$\\lim_{x \\to \\infty} \\left( 1 + \\frac{6}{4x - 3} \\right)^{\\frac{4x - 3}{6}\\frac{6}{4x - 3}6x} = e^{\\lim_{x \\to \\infty} \\frac{36x}{4x - 3}};$$\n",
    "\n",
    "6) для предела в степени выносим $x$ за скобки, выражение $\\frac{3}{x}$ при $x \\to \\infty$ равно 0, тогда:\n",
    "    \n",
    "$$\\lim_{x \\to \\infty} \\frac{36x}{4x - 3} = \\lim_{x \\to \\infty} \\frac{36}{4 - \\frac{3}{x}} = \\frac{36}{4} = 9.$$\n",
    "\n",
    "Таким образом, получаем ответ $e^9$."
   ]
  },
  {
   "cell_type": "markdown",
   "id": "a2d8663e",
   "metadata": {},
   "source": [
    "**Пример 3** <a class='anchor' id='lims_theorem_1_3'>\n",
    "    \n",
    "$$\\lim_{x \\to \\infty} \\frac{\\sin(x) + \\ln(x)}{x} = \\lim_{x \\to \\infty} \\frac{\\sin(x)}{x} + \\lim_{x \\to \\infty} \\frac{\\ln(x)}{x} = 0.$$\n",
    "\n",
    "Порядок решения:\n",
    "\n",
    "1) предел суммы был переписан как сумма пределов, так как каждый предел в сумме существует;\n",
    "    \n",
    "2) функция $\\sin(x)$ ограничена, поэтому при стремлении $x \\to \\infty$ первый предел в полученном выражении суммы равен 0;\n",
    "    \n",
    "3) во втором слагаемом функция $x$ растет быстрее, чем $\\ln(x)$, поэтому второй предел также равен 0.\n",
    "    \n",
    "Таким образом, сумма двух пределов равна 0."
   ]
  }
 ],
 "metadata": {
  "kernelspec": {
   "display_name": "Python 3 (ipykernel)",
   "language": "python",
   "name": "python3"
  },
  "language_info": {
   "codemirror_mode": {
    "name": "ipython",
    "version": 3
   },
   "file_extension": ".py",
   "mimetype": "text/x-python",
   "name": "python",
   "nbconvert_exporter": "python",
   "pygments_lexer": "ipython3",
   "version": "3.9.7"
  }
 },
 "nbformat": 4,
 "nbformat_minor": 5
}
