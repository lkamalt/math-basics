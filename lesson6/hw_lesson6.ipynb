{
 "cells": [
  {
   "cell_type": "markdown",
   "id": "a10c521a",
   "metadata": {},
   "source": [
    "# Оглавление\n",
    "1. [Понятие о производной](#derivative)\n",
    "    * [Задание 1](#derivative_1)\n",
    "        * [Пример 1](#derivative_1_1)\n",
    "        * [Пример 2](#derivative_1_2)\n",
    "        * [Пример 3](#derivative_1_3)\n",
    "        * [Пример 4](#derivative_1_4)\n",
    "    * [Задание 2](#derivative_2)\n",
    "    * [Задание 3](#derivative_3)\n",
    "    * [Задание 4](#derivative_4)"
   ]
  },
  {
   "cell_type": "markdown",
   "id": "633dc95c",
   "metadata": {},
   "source": [
    "# Понятие о производной <a class='anchor' id='derivative'>"
   ]
  },
  {
   "cell_type": "markdown",
   "id": "a339204f",
   "metadata": {},
   "source": [
    "### Задание 1 <a class='anchor' id='derivative_1'>\n",
    "    \n",
    "Найти производную выражения."
   ]
  },
  {
   "cell_type": "markdown",
   "id": "99ea649c",
   "metadata": {},
   "source": [
    "**Пример 1** <a class='anchor' id='derivative_1_1'>\n",
    "    \n",
    "$$f(x) = \\sin(x)\\cos(x)$$\n",
    "\n",
    "$$f'(x) = [\\sin(x)\\cos(x)]' = \\cos^2(x) - \\sin^2(x) = \\cos(2x)$$\n",
    "    \n",
    "Здесь была использована формула двойного угла: $\\cos(2x) = \\cos^2(x) - \\sin^2(x)$"
   ]
  },
  {
   "cell_type": "markdown",
   "id": "ce9d3892",
   "metadata": {},
   "source": [
    "**Пример 2** <a class='anchor' id='derivative_1_2'>\n",
    "\n",
    "$$f(x) = \\ln(2x + 1)^3$$\n",
    "    \n",
    "$$f'(x) = \\left[ \\ln(2x + 1)^3 \\right]' = \\frac{3 \\cdot (2x + 1)^2 \\cdot 2}{(2x + 1)^3} = \\frac{6}{2x + 1}$$"
   ]
  },
  {
   "cell_type": "markdown",
   "id": "a9e74b13",
   "metadata": {},
   "source": [
    "**Пример 3** <a class='anchor' id='derivative_1_3'>\n",
    "    \n",
    "$$f(x) = \\sqrt{\\sin^2(\\ln(x^3))}$$\n",
    "    \n",
    "$$f'(x) = \\left[ \\sqrt{\\sin^2(\\ln(x^3))} \\right]' = \\frac{1}{2\\sqrt{\\sin^2(\\ln(x^3))}} \\cdot 2\\sin(\\ln(x^3)) \\cdot \\cos(\\ln(x^3)) \\cdot \\frac{3x^2}{x^3} = $$\n",
    "\n",
    "$$ = \\frac{3}{2x\\sqrt{\\sin^2(\\ln(x^3))}} \\cdot 2\\sin(\\ln(x^3))\\cos(\\ln(x^3)) = \\frac{3\\sin(2\\ln(x^3))}{2x\\sqrt{\\sin^2(\\ln(x^3))}}$$\n",
    "    \n",
    "Здесь была использована формула двойного угла: $\\sin(2x) = 2\\sin(x)\\cos(x)$."
   ]
  },
  {
   "cell_type": "markdown",
   "id": "2187f50c",
   "metadata": {},
   "source": [
    "**Пример 4** <a class='anchor' id='derivative_1_4'>\n",
    "    \n",
    "$$f(x) = \\frac{x^4}{\\ln(x)}$$\n",
    "    \n",
    "$$f'(x) = \\left[ \\frac{x^4}{\\ln(x)} \\right]' = \\frac{4x^3\\ln(x) - \\frac{x^4}{x}}{\\ln^2(x)} = \\frac{4x^3\\ln(x) - x^3}{\\ln^2(x)} = \\frac{x^3(4\\ln(x) - 1)}{\\ln^2(x)}$$"
   ]
  },
  {
   "cell_type": "markdown",
   "id": "ee578f34",
   "metadata": {},
   "source": [
    "### Задание 2 <a class='anchor' id='derivative_2'>\n",
    "    \n",
    "Найти выражение производной функции и ее значение в точке:\n",
    "    \n",
    "$$f(x) = \\cos(x^2 + 3x), \\; x_0 = \\sqrt{\\pi}.$$\n",
    "    \n",
    "$$f'(x) = \\left[ \\cos(x^2 + 3x) \\right]' = -(2x + 3)\\sin(x^2 + 3x)$$\n",
    "    \n",
    "$$f'(x) = f'\\left(\\sqrt{\\pi} \\right) = -\\left( 2\\sqrt{\\pi} + 3 \\right)\\sin \\left( \\pi + 3\\sqrt{\\pi} \\right) = -\\left( 2\\sqrt{\\pi} + 3 \\right) \\left[ \\sin(\\pi) \\cos(3\\sqrt{\\pi}) +\\cos(\\pi)\\sin(3\\sqrt{\\pi}) \\right] = $$\n",
    "\n",
    "$$ =\n",
    "\\left| \\begin{matrix}\n",
    "   \\sin(\\pi) = 0 \\\\\n",
    "   \\cos(\\pi) = -1 \\\\\n",
    "\\end{matrix} \\right|\n",
    "= \\left( 2\\sqrt{\\pi} + 3 \\right) \\sin \\left( 3\\sqrt{\\pi} \\right)\n",
    "$$\n",
    "    \n",
    "Здесь была использована формула сложения аргументов: $\\sin(x + y) = \\sin(x)\\cos(y) + \\cos(x)\\sin(y)$."
   ]
  },
  {
   "cell_type": "markdown",
   "id": "ea7f78e1",
   "metadata": {},
   "source": [
    "### Задание 3 <a class='anchor' id='derivative_3'>\n",
    "    \n",
    "Найти значение производной функции в точке:\n",
    "    \n",
    "$$f(x) = \\frac{x^3 - x^2 - x - 1}{1 + 2x + 3x^2 - 4x^3}, \\; x_0 = 0$$\n",
    "    \n",
    "$$f'(x) = \\frac{(3x^2 - 2x - 1)(1 + 2x + 3x^2 - 4x^3) - (x^3 - x^2 - x - 1)(2 + 6x - 12x^2)}{(1 + 2x + 3x^2 - 4x^3)^2}$$\n",
    "    \n",
    "$$f'(x_0) = f'(0) = \\frac{-1 + 2}{1} = 1$$"
   ]
  },
  {
   "cell_type": "markdown",
   "id": "80130ad3",
   "metadata": {},
   "source": [
    "### Задание 4 <a class='anchor' id='derivative_4'>\n",
    "    \n",
    "Найти угол наклона касательной к графику функции в точке:\n",
    "\n",
    "$$f(x) = \\sqrt{3x}\\ln(x), \\; x_0 = 1$$\n",
    "    \n",
    "Геометрический смысл производной: производная = тангенс угла касательной к графику функции в заданной точке, поэтому для того, чтобы найти угол наклона $\\alpha$ касательной к графику в точке $x_0 = 1$, необходимо вычислить производную в этой точке:\n",
    "    \n",
    "$$f'(x) = \\left[ \\sqrt{3x}\\ln(x) \\right]' = \\frac{3}{2\\sqrt{3x}} \\cdot \\ln(x) + \\frac{\\sqrt{3x}}{x}$$\n",
    "    \n",
    "$$f'(x_0) = f'(1) = \\frac{3}{2\\sqrt{3}} \\cdot \\ln(1) + \\frac{\\sqrt{3}}{1} = \\left| \\ln(1) = 0 \\right| = \\sqrt{3}$$\n",
    "    \n",
    "Таким образом, получаем для угла наклона касательной $\\alpha$:\n",
    "\n",
    "$$\\tan(\\alpha) = f'(x_0) = \\sqrt{3},$$\n",
    "\n",
    "$$\\alpha = \\arctan \\left( \\sqrt{3} \\right) = \\frac{\\pi}{3}.$$"
   ]
  }
 ],
 "metadata": {
  "kernelspec": {
   "display_name": "Python 3 (ipykernel)",
   "language": "python",
   "name": "python3"
  },
  "language_info": {
   "codemirror_mode": {
    "name": "ipython",
    "version": 3
   },
   "file_extension": ".py",
   "mimetype": "text/x-python",
   "name": "python",
   "nbconvert_exporter": "python",
   "pygments_lexer": "ipython3",
   "version": "3.9.7"
  }
 },
 "nbformat": 4,
 "nbformat_minor": 5
}
